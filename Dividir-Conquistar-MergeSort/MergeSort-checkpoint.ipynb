{
 "cells": [
  {
   "cell_type": "markdown",
   "metadata": {},
   "source": [
    "# Conta inversões"
   ]
  },
  {
   "cell_type": "code",
   "execution_count": null,
   "metadata": {},
   "outputs": [],
   "source": [
    "def merge(esq, dire):\n",
    "    global inversoes\n",
    "    esq_i = 0\n",
    "    dire_i = 0\n",
    "    result = []\n",
    "    while esq_i < len(esq) and dire_i < len(dire):\n",
    "        if esq[esq_i] < dire[dire_i]:\n",
    "            result.append(esq[esq_i])\n",
    "            esq_i += 1\n",
    "        else:\n",
    "            result.append(dire[dire_i])\n",
    "            dire_i += 1\n",
    "            inversoes += 1\n",
    "    \n",
    "    result += esq[esq_i:]\n",
    "    result += dire[dire_i:]\n",
    "    return result"
   ]
  },
  {
   "cell_type": "code",
   "execution_count": null,
   "metadata": {},
   "outputs": [],
   "source": [
    "def merge_sort(lista):\n",
    "    if len(lista) <=1:\n",
    "        return lista\n",
    "    \n",
    "    metade = len(lista)//2\n",
    "    esq = merge_sort(lista[:metade])\n",
    "    dire = merge_sort(lista[metade:])\n",
    "    \n",
    "    return merge(esq, dire)"
   ]
  },
  {
   "cell_type": "code",
   "execution_count": null,
   "metadata": {},
   "outputs": [],
   "source": [
    "def inversoes_f():\n",
    "    lista = random.sample(range(100), 20)\n",
    "    merge_sort(lista)\n",
    "#     print(\"Lista desordenada: \" + str(lista))\n",
    "#     print(\"Lista ordenada: \" + str(merge_sort(lista)))\n",
    "#     print(inversoes)\n",
    "    return inversoes"
   ]
  },
  {
   "cell_type": "code",
   "execution_count": null,
   "metadata": {},
   "outputs": [],
   "source": [
    "import random\n",
    "import matplotlib.pyplot as plt\n",
    "\n",
    "inversoes = 0\n",
    "total = []\n",
    "\n",
    "for i in range(100):\n",
    "    inversoes = 0\n",
    "    total.append(inversoes_f())"
   ]
  },
  {
   "cell_type": "code",
   "execution_count": null,
   "metadata": {},
   "outputs": [],
   "source": [
    "ax1 = plt.subplot(212)\n",
    "ax1.margins(0.05)\n",
    "ax1.plot(total)\n",
    "plt.show()"
   ]
  }
 ],
 "metadata": {
  "kernelspec": {
   "display_name": "Python 3",
   "language": "python",
   "name": "python3"
  },
  "language_info": {
   "codemirror_mode": {
    "name": "ipython",
    "version": 3
   },
   "file_extension": ".py",
   "mimetype": "text/x-python",
   "name": "python",
   "nbconvert_exporter": "python",
   "pygments_lexer": "ipython3",
   "version": "3.7.4"
  }
 },
 "nbformat": 4,
 "nbformat_minor": 2
}
