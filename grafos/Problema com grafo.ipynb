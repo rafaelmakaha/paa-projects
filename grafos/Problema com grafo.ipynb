{
 "cells": [
  {
   "cell_type": "code",
   "execution_count": null,
   "metadata": {},
   "outputs": [],
   "source": [
    "import pandas as pd\n",
    "import numpy as np\n",
    "import collections"
   ]
  },
  {
   "cell_type": "code",
   "execution_count": null,
   "metadata": {},
   "outputs": [],
   "source": [
    "# Import do CSV\n",
    "dataset = pd.read_csv('./cocaine-dataset/dream_market_cocaine_listings.csv')"
   ]
  },
  {
   "cell_type": "code",
   "execution_count": null,
   "metadata": {
    "scrolled": false
   },
   "outputs": [],
   "source": [
    "dataset.head()"
   ]
  },
  {
   "cell_type": "code",
   "execution_count": null,
   "metadata": {},
   "outputs": [],
   "source": [
    "#Remoção de colunas\n",
    "dataset = dataset.drop(columns=['product_title','grams','escrow','product_link','vendor_link','vendor_name',])"
   ]
  },
  {
   "cell_type": "code",
   "execution_count": null,
   "metadata": {},
   "outputs": [],
   "source": [
    "# Seleciona apenas linhas com transações acima de 99\n",
    "\n",
    "dataset = dataset[dataset['successful_transactions'] > 99]"
   ]
  },
  {
   "cell_type": "code",
   "execution_count": null,
   "metadata": {
    "scrolled": true
   },
   "outputs": [],
   "source": [
    "dataset.columns"
   ]
  },
  {
   "cell_type": "code",
   "execution_count": null,
   "metadata": {},
   "outputs": [],
   "source": [
    "class Node(object):\n",
    "    def __init__(self, name):\n",
    "        self.nome = name\n",
    "        self.vizinhos = []\n",
    "    \n",
    "\n",
    "def encontra_objeto(nome, grafo):\n",
    "    for i in range(len(grafo)):\n",
    "        if grafo[i].nome == nome:\n",
    "            return grafo[i]"
   ]
  },
  {
   "cell_type": "code",
   "execution_count": null,
   "metadata": {},
   "outputs": [],
   "source": [
    "local = [\n",
    "    'US',\n",
    "    'NL',\n",
    "    'FR',\n",
    "    'GB',\n",
    "    'CA',\n",
    "    'DE',\n",
    "    'AU',\n",
    "    'EU',\n",
    "    'ES',\n",
    "    'N. America',\n",
    "    'BE',\n",
    "    'WW',\n",
    "    'SI',\n",
    "    'IT',\n",
    "    'DK',\n",
    "    'S. America',\n",
    "    'CH',\n",
    "    'BR',\n",
    "    'CZ',\n",
    "    'SE',\n",
    "    'CO',\n",
    "    'CN',\n",
    "    'PL',\n",
    "    'GR',\n",
    "]\n",
    "grafo = []\n",
    "vizinhos = []\n",
    "\n",
    "# Cria nós para cada localização\n",
    "for i in range(len(local)):\n",
    "    vizinhos = []\n",
    "    nome = local[i] \n",
    "    no = Node(nome)\n",
    "    if not grafo:\n",
    "        grafo.append(no)\n",
    "    if not any(x.nome == no.nome for x in grafo):\n",
    "        grafo.append(no)\n",
    "       \n",
    "    \n",
    "colunas = list(dataset.columns.values)\n",
    "colunas = colunas[10:]\n",
    "\n",
    "# Cria as conexões com vizinhos\n",
    "for i in range(len(grafo)):\n",
    "    df = dataset[dataset['ships_from'] == grafo[i].nome]\n",
    "    \n",
    "    for j in range(len(df.index)):        \n",
    "        row = df.iloc[j]\n",
    "        \n",
    "        for k in range(48):\n",
    "            if row[k+10] == True:\n",
    "                valor = colunas[k]\n",
    "                \n",
    "                if valor[:9] == 'ships_to_':\n",
    "                    valor = valor[9:]\n",
    "                else:\n",
    "                    valor = valor[11:]\n",
    "                \n",
    "                objeto = encontra_objeto(valor,grafo)\n",
    "                if objeto not in grafo[i].vizinhos:\n",
    "                    grafo[i].vizinhos.append(objeto)\n",
    "                    "
   ]
  },
  {
   "cell_type": "code",
   "execution_count": null,
   "metadata": {},
   "outputs": [],
   "source": [
    "# Print dos nós e vizinhos\n",
    "for i in range(len(grafo)):\n",
    "    L = grafo[i].vizinhos\n",
    "    print(grafo[i].nome + \" : \" +' '.join([str(lst.nome) for lst in L]))\n",
    "    "
   ]
  },
  {
   "cell_type": "code",
   "execution_count": null,
   "metadata": {},
   "outputs": [],
   "source": [
    "teste = {}\n",
    "for item in grafo:\n",
    "    teste[item.nome] = [vizinho.nome for vizinho in item.vizinhos]\n",
    "print(teste)"
   ]
  },
  {
   "cell_type": "code",
   "execution_count": null,
   "metadata": {},
   "outputs": [],
   "source": [
    "def bfs(graph, root):\n",
    "    seen, queue = set([root]), collections.deque([root])\n",
    "    while queue:\n",
    "        vertex = queue.popleft()\n",
    "        visit(vertex)\n",
    "        for node in graph[vertex]:\n",
    "            if node not in seen:\n",
    "                seen.add(node)\n",
    "                queue.append(node)\n",
    "\n",
    "def visit(n):\n",
    "    print(n)\n"
   ]
  },
  {
   "cell_type": "code",
   "execution_count": null,
   "metadata": {},
   "outputs": [],
   "source": [
    "bfs(teste, 'ES')"
   ]
  },
  {
   "cell_type": "code",
   "execution_count": null,
   "metadata": {},
   "outputs": [],
   "source": [
    "bsb = {\n",
    "    'Plano Piloto':['Brazlândia', 'Sobradinho', 'Varjão', 'Lago Norte', 'Sudoeste', 'Cruzeiro', 'SIA', 'SCIA_Estrutural', 'Taguatinga'],\n",
    "    'Gama':['Santa Maria', 'Recanto das Emas', 'Riacho_Fundo_II', 'Park Way'],\n",
    "    'Taguatinga':['Ceilândia', 'Brazlândia', 'Plano Piloto', 'Vicente Pires', 'SCIA_Estrutural', 'Guará', 'Águas Claras', 'Riacho Fundo', 'Samambaia'],\n",
    "    'Brazlândia':['Ceilândia','Plano Piloto', 'Sobradinho', 'Sobradinho II'],\n",
    "    'Sobradinho':['Brazlândia', 'Plano Piloto', 'Planaltina', 'Lago Norte', 'Itapoã'],\n",
    "    'Planaltina':['Sobradinho II', 'Sobradinho', 'Itapoã', 'Paranoá'],\n",
    "    'Paranoá':['Planaltina', 'Itapoã', 'Lago Norte', 'Jardim Botânico', 'São Sebastião'],\n",
    "    'Núcleo Bandeirante':['Águas Claras', 'Guará', 'Candangolândia', 'Lago Sul', 'Park Way', 'Riacho Fundo'],\n",
    "    'Ceilândia':['Taguatinga','Samambaia', 'Brazlândia'],\n",
    "    'Guará':['Vicente Pires', 'SCIA_Estrutural', 'SIA', 'Candangolândia', 'Núcleo Bandeirante', 'Águas Claras', 'Taguatinga'],\n",
    "    'Cruzeiro':['SIA', 'Sudoeste', 'Plano Piloto'],\n",
    "    'Samambaia':['Ceilândia', 'Taguatinga', 'Riacho Fundo', 'Riacho_Fundo_II'],\n",
    "    'Santa Maria':['São Sebastião', 'Gama', 'Lago Sul', 'Park Way'],\n",
    "    'São Sebastião':['Paranoá', 'Jardim Botânico', 'Lago Sul', 'Santa Maria'],\n",
    "    'Recanto das Emas':['Samambaia', 'Gama', 'Riacho_Fundo_II'],\n",
    "    'Lago Sul':['Santa Maria', 'Park Way','Núcleo Bandeirante', 'Candangolândia', ],\n",
    "    'Riacho Fundo':['Samambaia', 'Taguatinga', 'Águas Claras', 'Núcleo Bandeirante', 'Park Way'],\n",
    "    'Lago Norte':['Plano Piloto', 'Varjão', 'Sobradinho', 'Itapoã', 'Paranoá'],\n",
    "    'Candangolândia':['Guará','Plano Piloto', 'Lago Sul'],\n",
    "    'Águas Claras':['Taguatinga', 'Guará', 'Núcleo Bandeirante', 'Riacho Fundo'],\n",
    "    'Riacho_Fundo_II':['Gama', 'Recanto das Emas', 'Samambaia', 'Riacho Fundo', 'Park Way'],\n",
    "    'Sudoeste':['SIA', 'Plano Piloto', 'Cruzeiro'],\n",
    "    'Varjão':['Plano Piloto', 'Lago Norte'],\n",
    "    'Park Way':['Gama', 'Riacho_Fundo_II', 'Riacho Fundo', 'Núcleo Bandeirante', 'Lago Sul', 'Santa Maria', 'Jardim Botânico', 'São Sebastião'],\n",
    "    'SCIA_Estrutural':['Taguatinga', 'Plano Piloto', 'SIA', 'Guará', 'Vicente Pires'],\n",
    "    'Sobradinho II':['Fercal', 'Sobradinho', 'Brazlândia', 'Planaltina'],\n",
    "    'Jardim Botânico':['Lago Sul', 'Paranoá', 'São Sebastião'],\n",
    "    'Itapoã':['Lago Norte', 'Sobradinho', 'Planaltina', 'Paranoá'],\n",
    "    'SIA':['SCIA_Estrutural', 'Plano Piloto', 'Cruzeiro', 'Sudoeste', 'Guará'],\n",
    "    'Vicente Pires':['Taguatinga', 'SCIA_Estrutural', 'Guará'],\n",
    "    'Fercal':['Sobradinho', 'Sobradinho II'],\n",
    "}"
   ]
  },
  {
   "cell_type": "code",
   "execution_count": null,
   "metadata": {},
   "outputs": [],
   "source": [
    "def find_shortest_path(graph, start, end, path=[]):\n",
    "    path = path + [start]\n",
    "    if start == end:\n",
    "        return path\n",
    "    if start not in graph:\n",
    "        return None\n",
    "    shortest = None\n",
    "    for node in graph[start]:\n",
    "        if node not in path:\n",
    "            newpath = find_shortest_path(graph, node, end, path)\n",
    "            if newpath:\n",
    "                if not shortest or len(newpath) < len(shortest):\n",
    "                    shortest = newpath\n",
    "    return shortest"
   ]
  },
  {
   "cell_type": "code",
   "execution_count": null,
   "metadata": {},
   "outputs": [],
   "source": [
    "graph = {'A': ['B', 'C'],\n",
    "         'B': ['C', 'D'],\n",
    "         'C': ['D'],\n",
    "         'D': ['C'],\n",
    "         'E': ['F'],\n",
    "         'F': ['C']}"
   ]
  },
  {
   "cell_type": "code",
   "execution_count": null,
   "metadata": {},
   "outputs": [],
   "source": [
    "find_shortest_path(teste, 'ES', 'N. America')"
   ]
  }
 ],
 "metadata": {
  "kernelspec": {
   "display_name": "Python 3",
   "language": "python",
   "name": "python3"
  },
  "language_info": {
   "codemirror_mode": {
    "name": "ipython",
    "version": 3
   },
   "file_extension": ".py",
   "mimetype": "text/x-python",
   "name": "python",
   "nbconvert_exporter": "python",
   "pygments_lexer": "ipython3",
   "version": "3.7.4"
  }
 },
 "nbformat": 4,
 "nbformat_minor": 2
}
