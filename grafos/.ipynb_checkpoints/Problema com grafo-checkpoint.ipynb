{
 "cells": [
  {
   "cell_type": "code",
   "execution_count": 1,
   "metadata": {},
   "outputs": [],
   "source": [
    "import pandas as pd\n",
    "import numpy as np\n",
    "import collections"
   ]
  },
  {
   "cell_type": "code",
   "execution_count": 2,
   "metadata": {},
   "outputs": [],
   "source": [
    "# Import do CSV\n",
    "dataset = pd.read_csv('./cocaine-dataset/dream_market_cocaine_listings.csv')"
   ]
  },
  {
   "cell_type": "code",
   "execution_count": 3,
   "metadata": {
    "scrolled": false
   },
   "outputs": [
    {
     "data": {
      "text/html": [
       "<div>\n",
       "<style scoped>\n",
       "    .dataframe tbody tr th:only-of-type {\n",
       "        vertical-align: middle;\n",
       "    }\n",
       "\n",
       "    .dataframe tbody tr th {\n",
       "        vertical-align: top;\n",
       "    }\n",
       "\n",
       "    .dataframe thead th {\n",
       "        text-align: right;\n",
       "    }\n",
       "</style>\n",
       "<table border=\"1\" class=\"dataframe\">\n",
       "  <thead>\n",
       "    <tr style=\"text-align: right;\">\n",
       "      <th></th>\n",
       "      <th>Unnamed: 0</th>\n",
       "      <th>product_title</th>\n",
       "      <th>ships_from_to</th>\n",
       "      <th>grams</th>\n",
       "      <th>quality</th>\n",
       "      <th>btc_price</th>\n",
       "      <th>cost_per_gram</th>\n",
       "      <th>cost_per_gram_pure</th>\n",
       "      <th>escrow</th>\n",
       "      <th>product_link</th>\n",
       "      <th>...</th>\n",
       "      <th>ships_to_SE</th>\n",
       "      <th>ships_from_SE</th>\n",
       "      <th>ships_to_CO</th>\n",
       "      <th>ships_from_CO</th>\n",
       "      <th>ships_to_CN</th>\n",
       "      <th>ships_from_CN</th>\n",
       "      <th>ships_to_PL</th>\n",
       "      <th>ships_from_PL</th>\n",
       "      <th>ships_to_GR</th>\n",
       "      <th>ships_from_GR</th>\n",
       "    </tr>\n",
       "  </thead>\n",
       "  <tbody>\n",
       "    <tr>\n",
       "      <td>0</td>\n",
       "      <td>10</td>\n",
       "      <td>!!!!!INTRO OFFER!!!!! 1GR COCAINE 90%</td>\n",
       "      <td>NL  → EU</td>\n",
       "      <td>1.0</td>\n",
       "      <td>90.0</td>\n",
       "      <td>0.02577</td>\n",
       "      <td>0.02577</td>\n",
       "      <td>0.028633</td>\n",
       "      <td>1</td>\n",
       "      <td>http://lchudifyeqm4ldjj.onion/viewProduct?offe...</td>\n",
       "      <td>...</td>\n",
       "      <td>False</td>\n",
       "      <td>False</td>\n",
       "      <td>False</td>\n",
       "      <td>False</td>\n",
       "      <td>False</td>\n",
       "      <td>False</td>\n",
       "      <td>False</td>\n",
       "      <td>False</td>\n",
       "      <td>False</td>\n",
       "      <td>False</td>\n",
       "    </tr>\n",
       "    <tr>\n",
       "      <td>1</td>\n",
       "      <td>11</td>\n",
       "      <td>!!!!!INTRO OFFER!!!!! 2GR COCAINE 90%</td>\n",
       "      <td>NL  → EU</td>\n",
       "      <td>2.0</td>\n",
       "      <td>90.0</td>\n",
       "      <td>0.05150</td>\n",
       "      <td>0.02575</td>\n",
       "      <td>0.028611</td>\n",
       "      <td>1</td>\n",
       "      <td>http://lchudifyeqm4ldjj.onion/viewProduct?offe...</td>\n",
       "      <td>...</td>\n",
       "      <td>False</td>\n",
       "      <td>False</td>\n",
       "      <td>False</td>\n",
       "      <td>False</td>\n",
       "      <td>False</td>\n",
       "      <td>False</td>\n",
       "      <td>False</td>\n",
       "      <td>False</td>\n",
       "      <td>False</td>\n",
       "      <td>False</td>\n",
       "    </tr>\n",
       "    <tr>\n",
       "      <td>2</td>\n",
       "      <td>14</td>\n",
       "      <td>!!!INTRO!!! 0.5G COCAINE 89% - STRAIGHT FROM T...</td>\n",
       "      <td>NL  → EU</td>\n",
       "      <td>0.5</td>\n",
       "      <td>89.0</td>\n",
       "      <td>0.01649</td>\n",
       "      <td>0.03298</td>\n",
       "      <td>0.037056</td>\n",
       "      <td>1</td>\n",
       "      <td>http://lchudifyeqm4ldjj.onion/viewProduct?offe...</td>\n",
       "      <td>...</td>\n",
       "      <td>False</td>\n",
       "      <td>False</td>\n",
       "      <td>False</td>\n",
       "      <td>False</td>\n",
       "      <td>False</td>\n",
       "      <td>False</td>\n",
       "      <td>False</td>\n",
       "      <td>False</td>\n",
       "      <td>False</td>\n",
       "      <td>False</td>\n",
       "    </tr>\n",
       "    <tr>\n",
       "      <td>3</td>\n",
       "      <td>20</td>\n",
       "      <td>!1G! C O L O M B I A N C O C A I N E - 89% PURITY</td>\n",
       "      <td>FR  → EU</td>\n",
       "      <td>1.0</td>\n",
       "      <td>89.0</td>\n",
       "      <td>0.04120</td>\n",
       "      <td>0.04120</td>\n",
       "      <td>0.046292</td>\n",
       "      <td>1</td>\n",
       "      <td>http://lchudifyeqm4ldjj.onion/viewProduct?offe...</td>\n",
       "      <td>...</td>\n",
       "      <td>False</td>\n",
       "      <td>False</td>\n",
       "      <td>False</td>\n",
       "      <td>False</td>\n",
       "      <td>False</td>\n",
       "      <td>False</td>\n",
       "      <td>False</td>\n",
       "      <td>False</td>\n",
       "      <td>False</td>\n",
       "      <td>False</td>\n",
       "    </tr>\n",
       "    <tr>\n",
       "      <td>4</td>\n",
       "      <td>41</td>\n",
       "      <td>** 1 Gram 87% Pure Uncut Colombian Cocaine **</td>\n",
       "      <td>NL  → WW</td>\n",
       "      <td>1.0</td>\n",
       "      <td>87.0</td>\n",
       "      <td>0.03400</td>\n",
       "      <td>0.03400</td>\n",
       "      <td>0.039080</td>\n",
       "      <td>1</td>\n",
       "      <td>http://lchudifyeqm4ldjj.onion/viewProduct?offe...</td>\n",
       "      <td>...</td>\n",
       "      <td>False</td>\n",
       "      <td>False</td>\n",
       "      <td>False</td>\n",
       "      <td>False</td>\n",
       "      <td>False</td>\n",
       "      <td>False</td>\n",
       "      <td>False</td>\n",
       "      <td>False</td>\n",
       "      <td>False</td>\n",
       "      <td>False</td>\n",
       "    </tr>\n",
       "  </tbody>\n",
       "</table>\n",
       "<p>5 rows × 64 columns</p>\n",
       "</div>"
      ],
      "text/plain": [
       "   Unnamed: 0                                      product_title  \\\n",
       "0          10              !!!!!INTRO OFFER!!!!! 1GR COCAINE 90%   \n",
       "1          11              !!!!!INTRO OFFER!!!!! 2GR COCAINE 90%   \n",
       "2          14  !!!INTRO!!! 0.5G COCAINE 89% - STRAIGHT FROM T...   \n",
       "3          20  !1G! C O L O M B I A N C O C A I N E - 89% PURITY   \n",
       "4          41      ** 1 Gram 87% Pure Uncut Colombian Cocaine **   \n",
       "\n",
       "  ships_from_to  grams  quality  btc_price  cost_per_gram  cost_per_gram_pure  \\\n",
       "0      NL  → EU    1.0     90.0    0.02577        0.02577            0.028633   \n",
       "1      NL  → EU    2.0     90.0    0.05150        0.02575            0.028611   \n",
       "2      NL  → EU    0.5     89.0    0.01649        0.03298            0.037056   \n",
       "3      FR  → EU    1.0     89.0    0.04120        0.04120            0.046292   \n",
       "4      NL  → WW    1.0     87.0    0.03400        0.03400            0.039080   \n",
       "\n",
       "   escrow                                       product_link  ... ships_to_SE  \\\n",
       "0       1  http://lchudifyeqm4ldjj.onion/viewProduct?offe...  ...       False   \n",
       "1       1  http://lchudifyeqm4ldjj.onion/viewProduct?offe...  ...       False   \n",
       "2       1  http://lchudifyeqm4ldjj.onion/viewProduct?offe...  ...       False   \n",
       "3       1  http://lchudifyeqm4ldjj.onion/viewProduct?offe...  ...       False   \n",
       "4       1  http://lchudifyeqm4ldjj.onion/viewProduct?offe...  ...       False   \n",
       "\n",
       "  ships_from_SE  ships_to_CO  ships_from_CO ships_to_CN ships_from_CN  \\\n",
       "0         False        False          False       False         False   \n",
       "1         False        False          False       False         False   \n",
       "2         False        False          False       False         False   \n",
       "3         False        False          False       False         False   \n",
       "4         False        False          False       False         False   \n",
       "\n",
       "   ships_to_PL  ships_from_PL  ships_to_GR  ships_from_GR  \n",
       "0        False          False        False          False  \n",
       "1        False          False        False          False  \n",
       "2        False          False        False          False  \n",
       "3        False          False        False          False  \n",
       "4        False          False        False          False  \n",
       "\n",
       "[5 rows x 64 columns]"
      ]
     },
     "execution_count": 3,
     "metadata": {},
     "output_type": "execute_result"
    }
   ],
   "source": [
    "dataset.head()"
   ]
  },
  {
   "cell_type": "code",
   "execution_count": 4,
   "metadata": {},
   "outputs": [],
   "source": [
    "#Remoção de colunas\n",
    "dataset = dataset.drop(columns=['product_title','grams','escrow','product_link','vendor_link','vendor_name',])"
   ]
  },
  {
   "cell_type": "code",
   "execution_count": 5,
   "metadata": {},
   "outputs": [],
   "source": [
    "# Seleciona apenas linhas com transações acima de 99\n",
    "\n",
    "dataset = dataset[dataset['successful_transactions'] > 99]"
   ]
  },
  {
   "cell_type": "code",
   "execution_count": 6,
   "metadata": {
    "scrolled": true
   },
   "outputs": [
    {
     "data": {
      "text/plain": [
       "Index(['Unnamed: 0', 'ships_from_to', 'quality', 'btc_price', 'cost_per_gram',\n",
       "       'cost_per_gram_pure', 'successful_transactions', 'rating', 'ships_from',\n",
       "       'ships_to', 'ships_to_US', 'ships_from_US', 'ships_to_NL',\n",
       "       'ships_from_NL', 'ships_to_FR', 'ships_from_FR', 'ships_to_GB',\n",
       "       'ships_from_GB', 'ships_to_CA', 'ships_from_CA', 'ships_to_DE',\n",
       "       'ships_from_DE', 'ships_to_AU', 'ships_from_AU', 'ships_to_EU',\n",
       "       'ships_from_EU', 'ships_to_ES', 'ships_from_ES', 'ships_to_N. America',\n",
       "       'ships_from_N. America', 'ships_to_BE', 'ships_from_BE', 'ships_to_WW',\n",
       "       'ships_from_WW', 'ships_to_SI', 'ships_from_SI', 'ships_to_IT',\n",
       "       'ships_from_IT', 'ships_to_DK', 'ships_from_DK', 'ships_to_S. America',\n",
       "       'ships_from_S. America', 'ships_to_CH', 'ships_from_CH', 'ships_to_BR',\n",
       "       'ships_from_BR', 'ships_to_CZ', 'ships_from_CZ', 'ships_to_SE',\n",
       "       'ships_from_SE', 'ships_to_CO', 'ships_from_CO', 'ships_to_CN',\n",
       "       'ships_from_CN', 'ships_to_PL', 'ships_from_PL', 'ships_to_GR',\n",
       "       'ships_from_GR'],\n",
       "      dtype='object')"
      ]
     },
     "execution_count": 6,
     "metadata": {},
     "output_type": "execute_result"
    }
   ],
   "source": [
    "dataset.columns"
   ]
  },
  {
   "cell_type": "code",
   "execution_count": 7,
   "metadata": {},
   "outputs": [],
   "source": [
    "class Node(object):\n",
    "    def __init__(self, name):\n",
    "        self.nome = name\n",
    "        self.vizinhos = []\n",
    "    \n",
    "\n",
    "def encontra_objeto(nome, grafo):\n",
    "    for i in range(len(grafo)):\n",
    "        if grafo[i].nome == nome:\n",
    "            return grafo[i]"
   ]
  },
  {
   "cell_type": "code",
   "execution_count": 8,
   "metadata": {},
   "outputs": [],
   "source": [
    "local = [\n",
    "    'US',\n",
    "    'NL',\n",
    "    'FR',\n",
    "    'GB',\n",
    "    'CA',\n",
    "    'DE',\n",
    "    'AU',\n",
    "    'EU',\n",
    "    'ES',\n",
    "    'N. America',\n",
    "    'BE',\n",
    "    'WW',\n",
    "    'SI',\n",
    "    'IT',\n",
    "    'DK',\n",
    "    'S. America',\n",
    "    'CH',\n",
    "    'BR',\n",
    "    'CZ',\n",
    "    'SE',\n",
    "    'CO',\n",
    "    'CN',\n",
    "    'PL',\n",
    "    'GR',\n",
    "]\n",
    "grafo = []\n",
    "vizinhos = []\n",
    "\n",
    "# Cria nós para cada localização\n",
    "for i in range(len(local)):\n",
    "    vizinhos = []\n",
    "    nome = local[i] \n",
    "    no = Node(nome)\n",
    "    if not grafo:\n",
    "        grafo.append(no)\n",
    "    if not any(x.nome == no.nome for x in grafo):\n",
    "        grafo.append(no)\n",
    "       \n",
    "    \n",
    "colunas = list(dataset.columns.values)\n",
    "colunas = colunas[10:]\n",
    "\n",
    "# Cria as conexões com vizinhos\n",
    "for i in range(len(grafo)):\n",
    "    df = dataset[dataset['ships_from'] == grafo[i].nome]\n",
    "    \n",
    "    for j in range(len(df.index)):        \n",
    "        row = df.iloc[j]\n",
    "        \n",
    "        for k in range(48):\n",
    "            if row[k+10] == True:\n",
    "                valor = colunas[k]\n",
    "                \n",
    "                if valor[:9] == 'ships_to_':\n",
    "                    valor = valor[9:]\n",
    "                else:\n",
    "                    valor = valor[11:]\n",
    "                \n",
    "                objeto = encontra_objeto(valor,grafo)\n",
    "                if objeto not in grafo[i].vizinhos:\n",
    "                    grafo[i].vizinhos.append(objeto)\n",
    "                    "
   ]
  },
  {
   "cell_type": "code",
   "execution_count": 9,
   "metadata": {},
   "outputs": [
    {
     "name": "stdout",
     "output_type": "stream",
     "text": [
      "US : US WW\n",
      "NL : NL EU WW US\n",
      "FR : FR EU WW\n",
      "GB : GB EU WW\n",
      "CA : \n",
      "DE : DE EU WW US NL\n",
      "AU : AU\n",
      "EU : EU WW US\n",
      "ES : EU ES N. America WW\n",
      "N. America : \n",
      "BE : BE WW\n",
      "WW : \n",
      "SI : \n",
      "IT : WW IT\n",
      "DK : \n",
      "S. America : \n",
      "CH : \n",
      "BR : \n",
      "CZ : \n",
      "SE : \n",
      "CO : \n",
      "CN : \n",
      "PL : \n",
      "GR : \n"
     ]
    }
   ],
   "source": [
    "# Print dos nós e vizinhos\n",
    "for i in range(len(grafo)):\n",
    "    L = grafo[i].vizinhos\n",
    "    print(grafo[i].nome + \" : \" +' '.join([str(lst.nome) for lst in L]))\n",
    "    "
   ]
  },
  {
   "cell_type": "code",
   "execution_count": 10,
   "metadata": {},
   "outputs": [
    {
     "name": "stdout",
     "output_type": "stream",
     "text": [
      "{'US': ['US', 'WW'], 'NL': ['NL', 'EU', 'WW', 'US'], 'FR': ['FR', 'EU', 'WW'], 'GB': ['GB', 'EU', 'WW'], 'CA': [], 'DE': ['DE', 'EU', 'WW', 'US', 'NL'], 'AU': ['AU'], 'EU': ['EU', 'WW', 'US'], 'ES': ['EU', 'ES', 'N. America', 'WW'], 'N. America': [], 'BE': ['BE', 'WW'], 'WW': [], 'SI': [], 'IT': ['WW', 'IT'], 'DK': [], 'S. America': [], 'CH': [], 'BR': [], 'CZ': [], 'SE': [], 'CO': [], 'CN': [], 'PL': [], 'GR': []}\n"
     ]
    }
   ],
   "source": [
    "teste = {}\n",
    "for item in grafo:\n",
    "    teste[item.nome] = [vizinho.nome for vizinho in item.vizinhos]\n",
    "print(teste)"
   ]
  },
  {
   "cell_type": "code",
   "execution_count": 11,
   "metadata": {},
   "outputs": [],
   "source": [
    "def bfs(graph, root):\n",
    "    seen, queue = set([root]), collections.deque([root])\n",
    "    while queue:\n",
    "        vertex = queue.popleft()\n",
    "        visit(vertex)\n",
    "        for node in graph[vertex]:\n",
    "            if node not in seen:\n",
    "                seen.add(node)\n",
    "                queue.append(node)\n",
    "\n",
    "def visit(n):\n",
    "    print(n)\n"
   ]
  },
  {
   "cell_type": "code",
   "execution_count": 12,
   "metadata": {},
   "outputs": [
    {
     "name": "stdout",
     "output_type": "stream",
     "text": [
      "ES\n",
      "EU\n",
      "N. America\n",
      "WW\n",
      "US\n"
     ]
    }
   ],
   "source": [
    "bfs(teste, 'ES')"
   ]
  },
  {
   "cell_type": "code",
   "execution_count": 13,
   "metadata": {},
   "outputs": [],
   "source": [
    "bsb = {\n",
    "    'Plano Piloto':['Brazlândia', 'Sobradinho', 'Varjão', 'Lago Norte', 'Sudoeste', 'Cruzeiro', 'SIA', 'SCIA_Estrutural', 'Taguatinga'],\n",
    "    'Gama':['Santa Maria', 'Recanto das Emas', 'Riacho_Fundo_II', 'Park Way'],\n",
    "    'Taguatinga':['Ceilândia', 'Brazlândia', 'Plano Piloto', 'Vicente Pires', 'SCIA_Estrutural', 'Guará', 'Águas Claras', 'Riacho Fundo', 'Samambaia'],\n",
    "    'Brazlândia':['Ceilândia','Plano Piloto', 'Sobradinho', 'Sobradinho II'],\n",
    "    'Sobradinho':['Brazlândia', 'Plano Piloto', 'Planaltina', 'Lago Norte', 'Itapoã'],\n",
    "    'Planaltina':['Sobradinho II', 'Sobradinho', 'Itapoã', 'Paranoá'],\n",
    "    'Paranoá':['Planaltina', 'Itapoã', 'Lago Norte', 'Jardim Botânico', 'São Sebastião'],\n",
    "    'Núcleo Bandeirante':['Águas Claras', 'Guará', 'Candangolândia', 'Lago Sul', 'Park Way', 'Riacho Fundo'],\n",
    "    'Ceilândia':['Taguatinga','Samambaia', 'Brazlândia'],\n",
    "    'Guará':['Vicente Pires', 'SCIA_Estrutural', 'SIA', 'Candangolândia', 'Núcleo Bandeirante', 'Águas Claras', 'Taguatinga'],\n",
    "    'Cruzeiro':['SIA', 'Sudoeste', 'Plano Piloto'],\n",
    "    'Samambaia':['Ceilândia', 'Taguatinga', 'Riacho Fundo', 'Riacho_Fundo_II'],\n",
    "    'Santa Maria':['São Sebastião', 'Gama', 'Lago Sul', 'Park Way'],\n",
    "    'São Sebastião':['Paranoá', 'Jardim Botânico', 'Lago Sul', 'Santa Maria'],\n",
    "    'Recanto das Emas':['Samambaia', 'Gama', 'Riacho_Fundo_II'],\n",
    "    'Lago Sul':['Santa Maria', 'Park Way','Núcleo Bandeirante', 'Candangolândia', ],\n",
    "    'Riacho Fundo':['Samambaia', 'Taguatinga', 'Águas Claras', 'Núcleo Bandeirante', 'Park Way'],\n",
    "    'Lago Norte':['Plano Piloto', 'Varjão', 'Sobradinho', 'Itapoã', 'Paranoá'],\n",
    "    'Candangolândia':['Guará','Plano Piloto', 'Lago Sul'],\n",
    "    'Águas Claras':['Taguatinga', 'Guará', 'Núcleo Bandeirante', 'Riacho Fundo'],\n",
    "    'Riacho_Fundo_II':['Gama', 'Recanto das Emas', 'Samambaia', 'Riacho Fundo', 'Park Way'],\n",
    "    'Sudoeste':['SIA', 'Plano Piloto', 'Cruzeiro'],\n",
    "    'Varjão':['Plano Piloto', 'Lago Norte'],\n",
    "    'Park Way':['Gama', 'Riacho_Fundo_II', 'Riacho Fundo', 'Núcleo Bandeirante', 'Lago Sul', 'Santa Maria', 'Jardim Botânico', 'São Sebastião'],\n",
    "    'SCIA_Estrutural':['Taguatinga', 'Plano Piloto', 'SIA', 'Guará', 'Vicente Pires'],\n",
    "    'Sobradinho II':['Fercal', 'Sobradinho', 'Brazlândia', 'Planaltina'],\n",
    "    'Jardim Botânico':['Lago Sul', 'Paranoá', 'São Sebastião'],\n",
    "    'Itapoã':['Lago Norte', 'Sobradinho', 'Planaltina', 'Paranoá'],\n",
    "    'SIA':['SCIA_Estrutural', 'Plano Piloto', 'Cruzeiro', 'Sudoeste', 'Guará'],\n",
    "    'Vicente Pires':['Taguatinga', 'SCIA_Estrutural', 'Guará'],\n",
    "    'Fercal':['Sobradinho', 'Sobradinho II'],\n",
    "}"
   ]
  },
  {
   "cell_type": "code",
   "execution_count": 14,
   "metadata": {},
   "outputs": [],
   "source": [
    "def find_shortest_path(graph, start, end, path=[]):\n",
    "    path = path + [start]\n",
    "    if start == end:\n",
    "        return path\n",
    "    if start not in graph:\n",
    "        return None\n",
    "    shortest = None\n",
    "    for node in graph[start]:\n",
    "        if node not in path:\n",
    "            newpath = find_shortest_path(graph, node, end, path)\n",
    "            if newpath:\n",
    "                if not shortest or len(newpath) < len(shortest):\n",
    "                    shortest = newpath\n",
    "    return shortest"
   ]
  },
  {
   "cell_type": "code",
   "execution_count": 15,
   "metadata": {},
   "outputs": [],
   "source": [
    "graph = {'A': ['B', 'C'],\n",
    "         'B': ['C', 'D'],\n",
    "         'C': ['D'],\n",
    "         'D': ['C'],\n",
    "         'E': ['F'],\n",
    "         'F': ['C']}"
   ]
  },
  {
   "cell_type": "code",
   "execution_count": 16,
   "metadata": {},
   "outputs": [
    {
     "data": {
      "text/plain": [
       "['ES', 'N. America']"
      ]
     },
     "execution_count": 16,
     "metadata": {},
     "output_type": "execute_result"
    }
   ],
   "source": [
    "find_shortest_path(teste, 'ES', 'N. America')"
   ]
  },
  {
   "cell_type": "code",
   "execution_count": null,
   "metadata": {},
   "outputs": [],
   "source": []
  }
 ],
 "metadata": {
  "kernelspec": {
   "display_name": "Python 3",
   "language": "python",
   "name": "python3"
  },
  "language_info": {
   "codemirror_mode": {
    "name": "ipython",
    "version": 3
   },
   "file_extension": ".py",
   "mimetype": "text/x-python",
   "name": "python",
   "nbconvert_exporter": "python",
   "pygments_lexer": "ipython3",
   "version": "3.7.4"
  }
 },
 "nbformat": 4,
 "nbformat_minor": 2
}
